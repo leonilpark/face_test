{
 "cells": [
  {
   "cell_type": "code",
   "execution_count": 5,
   "id": "9a7e9256",
   "metadata": {},
   "outputs": [
    {
     "name": "stdout",
     "output_type": "stream",
     "text": [
      "(0, 0, 0, 0)\n"
     ]
    },
    {
     "ename": "error",
     "evalue": "OpenCV(4.5.5) D:\\a\\opencv-python\\opencv-python\\opencv\\modules\\core\\src\\dxt.cpp:3508: error: (-215:Assertion failed) type == CV_32FC1 || type == CV_32FC2 || type == CV_64FC1 || type == CV_64FC2 in function 'cv::dft'\n",
     "output_type": "error",
     "traceback": [
      "\u001b[1;31m---------------------------------------------------------------------------\u001b[0m",
      "\u001b[1;31merror\u001b[0m                                     Traceback (most recent call last)",
      "\u001b[1;32m~\\AppData\\Local\\Temp/ipykernel_24440/684084927.py\u001b[0m in \u001b[0;36m<module>\u001b[1;34m\u001b[0m\n\u001b[0;32m     35\u001b[0m \u001b[0mprint\u001b[0m\u001b[1;33m(\u001b[0m\u001b[0mrc\u001b[0m\u001b[1;33m)\u001b[0m\u001b[1;33m\u001b[0m\u001b[1;33m\u001b[0m\u001b[0m\n\u001b[0;32m     36\u001b[0m \u001b[1;31m# tracker.init(frame, rc)\u001b[0m\u001b[1;33m\u001b[0m\u001b[1;33m\u001b[0m\u001b[1;33m\u001b[0m\u001b[0m\n\u001b[1;32m---> 37\u001b[1;33m \u001b[0mprint\u001b[0m\u001b[1;33m(\u001b[0m\u001b[0mtracker\u001b[0m\u001b[1;33m.\u001b[0m\u001b[0minit\u001b[0m\u001b[1;33m(\u001b[0m\u001b[0mframe\u001b[0m\u001b[1;33m,\u001b[0m \u001b[0mrc\u001b[0m\u001b[1;33m)\u001b[0m\u001b[1;33m)\u001b[0m\u001b[1;33m\u001b[0m\u001b[1;33m\u001b[0m\u001b[0m\n\u001b[0m\u001b[0;32m     38\u001b[0m \u001b[1;33m\u001b[0m\u001b[0m\n\u001b[0;32m     39\u001b[0m \u001b[1;31m# 매 프레임 처리\u001b[0m\u001b[1;33m\u001b[0m\u001b[1;33m\u001b[0m\u001b[1;33m\u001b[0m\u001b[0m\n",
      "\u001b[1;31merror\u001b[0m: OpenCV(4.5.5) D:\\a\\opencv-python\\opencv-python\\opencv\\modules\\core\\src\\dxt.cpp:3508: error: (-215:Assertion failed) type == CV_32FC1 || type == CV_32FC2 || type == CV_64FC1 || type == CV_64FC2 in function 'cv::dft'\n"
     ]
    }
   ],
   "source": [
    "import cv2\n",
    "# 동영상 열기\n",
    "cap = cv2.VideoCapture(0)\n",
    "\n",
    "if not cap.isOpened():\n",
    "    print('Video open failed!')\n",
    "    sys.exit()\n",
    "\n",
    "# 트래커 객체 생성\n",
    "\n",
    "# Kernelized Correlation Filters\n",
    "# KCF가 그나마 빠른 알고리즘\n",
    "#tracker = cv2.TrackerKCF_create()\n",
    "\n",
    "# Minimum Output Sum of Squared Error\n",
    "# 빠르게 동작하는 편\n",
    "#tracker = cv2.TrackerMOSSE_create()\n",
    "\n",
    "# Discriminative Correlation Filter with Channel and Spatial Reliability\n",
    "# 앞의 두 가지 방법보다 강인하게 추적을 함. 그대신 느림\n",
    "tracker = cv2.TrackerCSRT_create()\n",
    "\n",
    "# GOTURN은 딥러닝 기반. 실행하려면 딥러닝 관련 파일을 다운받아서 가중치 파일을 저장해야지 동작 가능\n",
    "\n",
    "# 첫 번째 프레임에서 추적 ROI 설정\n",
    "ret, frame = cap.read()\n",
    "\n",
    "if not ret:\n",
    "    print('Frame read failed!')\n",
    "    sys.exit()\n",
    "\n",
    "# frame 이라는 이름으로 부분영상 추출\n",
    "rc = cv2.selectROI('frame', frame)\n",
    "# 초깃값 설정\n",
    "print(rc)\n",
    "# tracker.init(frame, rc)\n",
    "print(tracker.init(frame, rc))\n",
    "\n",
    "# 매 프레임 처리\n",
    "while True:\n",
    "    ret, frame = cap.read()\n",
    "\n",
    "    if not ret:\n",
    "        print('Frame read failed!')\n",
    "        sys.exit()\n",
    "\n",
    "    # 추척 $ ROI 사각형 업데이트\n",
    "    # 매 프래임마다 update하고 rc값 받아옴\n",
    "    ret, rc = tracker.update(frame)\n",
    "    \n",
    "    # floate 형태로 rc값을 받으므로 int로 변환해서 list로 감싸고 tuple로 변환\n",
    "    rc = tuple([int(_) for _ in rc])\n",
    "    cv2.rectangle(frame, rc, (0, 0, 255), 2)\n",
    "    \n",
    "    cv2.imshow('frame', frame)\n",
    "    if cv2.waitKey(20) == 27:\n",
    "        break\n",
    "\n",
    "cv2.destroyAllWindows()"
   ]
  },
  {
   "cell_type": "code",
   "execution_count": null,
   "id": "9cad8c5d",
   "metadata": {},
   "outputs": [],
   "source": []
  }
 ],
 "metadata": {
  "kernelspec": {
   "display_name": "Python 3 (ipykernel)",
   "language": "python",
   "name": "python3"
  },
  "language_info": {
   "codemirror_mode": {
    "name": "ipython",
    "version": 3
   },
   "file_extension": ".py",
   "mimetype": "text/x-python",
   "name": "python",
   "nbconvert_exporter": "python",
   "pygments_lexer": "ipython3",
   "version": "3.8.12"
  }
 },
 "nbformat": 4,
 "nbformat_minor": 5
}
